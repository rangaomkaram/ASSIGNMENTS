{
 "cells": [
  {
   "cell_type": "markdown",
   "id": "9d756d89",
   "metadata": {},
   "source": [
    "Python_Assignment2"
   ]
  },
  {
   "cell_type": "raw",
   "id": "fd3fb4ee",
   "metadata": {},
   "source": [
    "Question 2:\n",
    "1. Create the below pattern using nested for loop in Python.\n",
    "*\n",
    "* *\n",
    "* * *\n",
    "* * * *\n",
    "* * * * *\n",
    "* * * *\n",
    "* * *\n",
    "* *\n",
    "*"
   ]
  },
  {
   "cell_type": "markdown",
   "id": "7fefc715",
   "metadata": {},
   "source": []
  },
  {
   "cell_type": "code",
   "execution_count": 20,
   "id": "74491c28",
   "metadata": {},
   "outputs": [
    {
     "name": "stdout",
     "output_type": "stream",
     "text": [
      "\n",
      "* \n",
      "* * \n",
      "* * * \n",
      "* * * * \n",
      "* * * * * \n",
      "* * * * \n",
      "* * * \n",
      "* * \n",
      "* \n"
     ]
    }
   ],
   "source": [
    "for row in range(0,5):\n",
    "    for col in range(row):\n",
    "        print(\"* \",end=\"\")\n",
    "    print()\n",
    "for row in range(5,0,-1):\n",
    "    for col in range(row):\n",
    "        print(\"* \",end=\"\")\n",
    "    print()"
   ]
  },
  {
   "cell_type": "markdown",
   "id": "3191a2df",
   "metadata": {},
   "source": [
    "# Question 2\n",
    "2. Write a Python program to reverse a word after accepting the input from the user.\n",
    "Input word: ineuron\n",
    "Output: norueni"
   ]
  },
  {
   "cell_type": "code",
   "execution_count": 21,
   "id": "39d41f47",
   "metadata": {},
   "outputs": [
    {
     "name": "stdout",
     "output_type": "stream",
     "text": [
      "Input word :ineuron\n",
      "output: norueni\n"
     ]
    }
   ],
   "source": [
    "word = input(\"Input word :\")\n",
    "print('output:',word[::-1])"
   ]
  },
  {
   "cell_type": "code",
   "execution_count": null,
   "id": "50ed712e",
   "metadata": {},
   "outputs": [],
   "source": []
  }
 ],
 "metadata": {
  "kernelspec": {
   "display_name": "Python 3",
   "language": "python",
   "name": "python3"
  },
  "language_info": {
   "codemirror_mode": {
    "name": "ipython",
    "version": 3
   },
   "file_extension": ".py",
   "mimetype": "text/x-python",
   "name": "python",
   "nbconvert_exporter": "python",
   "pygments_lexer": "ipython3",
   "version": "3.8.8"
  }
 },
 "nbformat": 4,
 "nbformat_minor": 5
}
