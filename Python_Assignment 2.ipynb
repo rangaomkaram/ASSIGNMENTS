{
 "cells": [
  {
   "cell_type": "markdown",
   "id": "db6bdf91",
   "metadata": {},
   "source": [
    "Python_Assignment2"
   ]
  },
  {
   "cell_type": "raw",
   "id": "56feae4b",
   "metadata": {},
   "source": [
    "Question 2:\n",
    "1. Create the below pattern using nested for loop in Python.\n",
    "*\n",
    "* *\n",
    "* * *\n",
    "* * * *\n",
    "* * * * *\n",
    "* * * *\n",
    "* * *\n",
    "* *\n",
    "*"
   ]
  },
  {
   "cell_type": "markdown",
   "id": "6336eac9",
   "metadata": {},
   "source": []
  },
  {
   "cell_type": "code",
   "execution_count": 20,
   "id": "4f810d73",
   "metadata": {},
   "outputs": [
    {
     "name": "stdout",
     "output_type": "stream",
     "text": [
      "\n",
      "* \n",
      "* * \n",
      "* * * \n",
      "* * * * \n",
      "* * * * * \n",
      "* * * * \n",
      "* * * \n",
      "* * \n",
      "* \n"
     ]
    }
   ],
   "source": [
    "for row in range(0,5):\n",
    "    for col in range(row):\n",
    "        print(\"* \",end=\"\")\n",
    "    print()\n",
    "for row in range(5,0,-1):\n",
    "    for col in range(row):\n",
    "        print(\"* \",end=\"\")\n",
    "    print()"
   ]
  },
  {
   "cell_type": "markdown",
   "id": "7c3285f9",
   "metadata": {},
   "source": [
    "\n",
    "2. Write a Python program to reverse a word after accepting the input from the user.\n",
    "Input word: ineuron\n",
    "Output: norueni"
   ]
  },
  {
   "cell_type": "code",
   "execution_count": 9,
   "id": "297233ce",
   "metadata": {},
   "outputs": [
    {
     "name": "stdout",
     "output_type": "stream",
     "text": [
      "Input word :ineuron\n",
      "output: norueni\n"
     ]
    }
   ],
   "source": [
    "word = input(\"Input word :\")\n",
    "print('output:',word[::-1])"
   ]
  },
  {
   "cell_type": "code",
   "execution_count": null,
   "id": "fde097ed",
   "metadata": {},
   "outputs": [],
   "source": []
  }
 ],
 "metadata": {
  "kernelspec": {
   "display_name": "Python 3",
   "language": "python",
   "name": "python3"
  },
  "language_info": {
   "codemirror_mode": {
    "name": "ipython",
    "version": 3
   },
   "file_extension": ".py",
   "mimetype": "text/x-python",
   "name": "python",
   "nbconvert_exporter": "python",
   "pygments_lexer": "ipython3",
   "version": "3.8.8"
  }
 },
 "nbformat": 4,
 "nbformat_minor": 5
}
