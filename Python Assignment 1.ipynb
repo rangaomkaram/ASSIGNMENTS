{
 "cells": [
  {
   "cell_type": "markdown",
   "id": "a332372e",
   "metadata": {},
   "source": [
    "## Python Assignment 1"
   ]
  },
  {
   "cell_type": "markdown",
   "id": "176ac02d",
   "metadata": {},
   "source": [
    "# Question_1:\n",
    "write a program which will find all such numbers which are dvisible by 7 but not a    \n",
    "multiple of 5, between 2000 and 3200 (both included). The numbers obtained should be printed\n",
    "in a comma-separated sequence on a single line."
   ]
  },
  {
   "cell_type": "markdown",
   "id": "61c5bbec",
   "metadata": {},
   "source": [
    "# Solution 1:"
   ]
  },
  {
   "cell_type": "code",
   "execution_count": 15,
   "id": "e700f8da",
   "metadata": {},
   "outputs": [
    {
     "name": "stdout",
     "output_type": "stream",
     "text": [
      "2002,2009,2016,2023,2037,2044,2051,2058,2072,2079,2086,2093,2107,2114,2121,2128,2142,2149,2156,2163,2177,2184,2191,2198,2212,2219,2226,2233,2247,2254,2261,2268,2282,2289,2296,2303,2317,2324,2331,2338,2352,2359,2366,2373,2387,2394,2401,2408,2422,2429,2436,2443,2457,2464,2471,2478,2492,2499,2506,2513,2527,2534,2541,2548,2562,2569,2576,2583,2597,2604,2611,2618,2632,2639,2646,2653,2667,2674,2681,2688,2702,2709,2716,2723,2737,2744,2751,2758,2772,2779,2786,2793,2807,2814,2821,2828,2842,2849,2856,2863,2877,2884,2891,2898,2912,2919,2926,2933,2947,2954,2961,2968,2982,2989,2996,3003,3017,3024,3031,3038,3052,3059,3066,3073,3087,3094,3101,3108,3122,3129,3136,3143,3157,3164,3171,3178,3192,3199,"
     ]
    }
   ],
   "source": [
    "# given range between 2000 and 3200 and inculded so (2000 ,3201)\n",
    "for i in range(2000,3201):\n",
    "    if (i % 7 == 0 and i % 5 != 0):\n",
    "        print(i,end = \",\")\n"
   ]
  },
  {
   "cell_type": "markdown",
   "id": "1167e004",
   "metadata": {},
   "source": [
    "# Question_2:\n",
    "2. Write a Python program to accept the user's first and last name and then getting them printed in the the reverse order with a space between first name and last name."
   ]
  },
  {
   "cell_type": "markdown",
   "id": "2f38fb6d",
   "metadata": {},
   "source": [
    "# Solution 2:"
   ]
  },
  {
   "cell_type": "code",
   "execution_count": 16,
   "id": "e870f95b",
   "metadata": {},
   "outputs": [
    {
     "name": "stdout",
     "output_type": "stream",
     "text": [
      "Enter your first name : ranga\n",
      "Enter your Last Name : omkaram\n",
      "omkaram ranga\n"
     ]
    }
   ],
   "source": [
    "# Enter the first and last name and get reverse order first and last name with space\n",
    "\n",
    "\"\"\"\n",
    "example: enter the first_name = ranga\n",
    "         enter the last_name  =omkaram\n",
    "         reverse order print is : omkaram ranga\n",
    "           \n",
    "\"\"\" \n",
    "First_Name = input(\"Enter your first name : \")\n",
    "Last_Name  = input(\"Enter your Last Name : \")\n",
    "print(Last_Name + \" \" + First_Name)\n"
   ]
  },
  {
   "cell_type": "markdown",
   "id": "bb6645c9",
   "metadata": {},
   "source": [
    " # Question_3:\n",
    " Write a Python program to find the volume of a sphere with diameter 12 cm."
   ]
  },
  {
   "cell_type": "code",
   "execution_count": 24,
   "id": "9e6a0fc6",
   "metadata": {},
   "outputs": [
    {
     "name": "stdout",
     "output_type": "stream",
     "text": [
      "Enter the diameter :12\n",
      "The volume of Sphere is:904.7786842338603\n"
     ]
    }
   ],
   "source": [
    "# Volume of sphere is = (4/3) * pi * R^3\n",
    "# given diameter = 12cm\n",
    "import math\n",
    "diameter = float(input(\"Enter the diameter :\"))\n",
    "Radius   = float(diameter/2)\n",
    "\n",
    "volume   = (4/3)*(math.pi)*(Radius**3)\n",
    "print('The volume of Sphere is:'+ str(volume))"
   ]
  },
  {
   "cell_type": "code",
   "execution_count": null,
   "id": "1fc504a1",
   "metadata": {},
   "outputs": [],
   "source": []
  },
  {
   "cell_type": "code",
   "execution_count": null,
   "id": "a7588297",
   "metadata": {},
   "outputs": [],
   "source": []
  },
  {
   "cell_type": "code",
   "execution_count": null,
   "id": "48a12d52",
   "metadata": {},
   "outputs": [],
   "source": []
  }
 ],
 "metadata": {
  "kernelspec": {
   "display_name": "Python 3",
   "language": "python",
   "name": "python3"
  },
  "language_info": {
   "codemirror_mode": {
    "name": "ipython",
    "version": 3
   },
   "file_extension": ".py",
   "mimetype": "text/x-python",
   "name": "python",
   "nbconvert_exporter": "python",
   "pygments_lexer": "ipython3",
   "version": "3.8.8"
  }
 },
 "nbformat": 4,
 "nbformat_minor": 5
}
